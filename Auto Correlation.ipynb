{
 "cells": [
  {
   "cell_type": "markdown",
   "metadata": {},
   "source": [
    "# 4) Determine the autocorrelation sequence of the signal x(n)"
   ]
  },
  {
   "cell_type": "code",
   "execution_count": 1,
   "metadata": {},
   "outputs": [],
   "source": [
    "import numpy as np\n",
    "def auto_correlation(x, x_start):\n",
    "    corr_start = len(x) - 1\n",
    "    length = 2*len(x) - 1\n",
    "    x1 = np.array([0]*(length - len(x)) + x)\n",
    "    x2 = np.array(x + [0]*(length - len(x)))\n",
    "    r_xy = np.zeros(length)\n",
    "    \n",
    "    for i in range(length):\n",
    "        r_xy[i] = (x1*x2).sum()\n",
    "        x2[1:] = x2[:-1]\n",
    "        x2[0] = 0\n",
    "    return r_xy, corr_start"
   ]
  },
  {
   "cell_type": "code",
   "execution_count": 2,
   "metadata": {},
   "outputs": [
    {
     "name": "stdout",
     "output_type": "stream",
     "text": [
      "The Auto-correlation of signal x is : [-6.  7. -9. -2. 13. 19. 77. 19. 13. -2. -9.  7. -6.]\n",
      "The starting point of auto correlation sequence: 6\n"
     ]
    }
   ],
   "source": [
    "x = [2,-1, 3, 7, 1, 2, -3]\n",
    "x_start = 4\n",
    "\n",
    "r_xy, corr_start = auto_correlation(x, x_start)\n",
    "print('The Auto-correlation of signal x is : {}'.format(r_xy))\n",
    "print('The starting point of auto correlation sequence: {}'.format(corr_start))"
   ]
  },
  {
   "cell_type": "code",
   "execution_count": null,
   "metadata": {},
   "outputs": [],
   "source": []
  }
 ],
 "metadata": {
  "kernelspec": {
   "display_name": "Python 3",
   "language": "python",
   "name": "python3"
  },
  "language_info": {
   "codemirror_mode": {
    "name": "ipython",
    "version": 3
   },
   "file_extension": ".py",
   "mimetype": "text/x-python",
   "name": "python",
   "nbconvert_exporter": "python",
   "pygments_lexer": "ipython3",
   "version": "3.7.6"
  }
 },
 "nbformat": 4,
 "nbformat_minor": 4
}
