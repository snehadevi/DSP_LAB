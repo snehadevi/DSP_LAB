{
 "cells": [
  {
   "cell_type": "markdown",
   "metadata": {},
   "source": [
    "# 3) Compute the cross-correlation sequence of two signals x(n) and h(n)."
   ]
  },
  {
   "cell_type": "code",
   "execution_count": 1,
   "metadata": {},
   "outputs": [],
   "source": [
    "import numpy as np\n",
    "def cross_correlation(x, x_start, y, y_start):\n",
    "    corr_start = x_start + len(y) - y_start - 1\n",
    "    length = len(x) + len(y) - 1\n",
    "    x = np.array([0]*(length - len(x)) + x)\n",
    "    y = np.array(y + [0]*(length - len(y)))\n",
    "    r_xy = np.zeros(length)\n",
    "    \n",
    "    for i in range(length):\n",
    "        r_xy[i] = (x*y).sum()\n",
    "        y[1:] = y[:-1]\n",
    "        y[0] = 0\n",
    "    return r_xy, corr_start"
   ]
  },
  {
   "cell_type": "code",
   "execution_count": 2,
   "metadata": {},
   "outputs": [],
   "source": [
    "x = [2,-1, 3, 7, 1, 2, -3]\n",
    "y = [1, -1, 2, -2, 4, 1, -2, 5]\n",
    "x_start = 4\n",
    "y_start = 4\n",
    "\n",
    "r_xy, corr_start = cross_correlation(x, x_start, y, y_start)"
   ]
  },
  {
   "cell_type": "code",
   "execution_count": 3,
   "metadata": {},
   "outputs": [
    {
     "name": "stdout",
     "output_type": "stream",
     "text": [
      "The Cross correlation of signal x and h is : [ 10.  -9.  19.  36. -14.  33.   0.   7.  13. -18.  16.  -7.   5.  -3.]\n",
      "The starting point of cross correlation sequence : 7\n"
     ]
    }
   ],
   "source": [
    "print('The Cross correlation of signal x and h is : {}'.format(r_xy))\n",
    "print('The starting point of cross correlation sequence : {}'.format(corr_start))"
   ]
  },
  {
   "cell_type": "code",
   "execution_count": null,
   "metadata": {},
   "outputs": [],
   "source": []
  }
 ],
 "metadata": {
  "kernelspec": {
   "display_name": "Python 3",
   "language": "python",
   "name": "python3"
  },
  "language_info": {
   "codemirror_mode": {
    "name": "ipython",
    "version": 3
   },
   "file_extension": ".py",
   "mimetype": "text/x-python",
   "name": "python",
   "nbconvert_exporter": "python",
   "pygments_lexer": "ipython3",
   "version": "3.7.6"
  }
 },
 "nbformat": 4,
 "nbformat_minor": 4
}
