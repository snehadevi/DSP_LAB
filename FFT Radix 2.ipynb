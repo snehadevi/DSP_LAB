{
 "cells": [
  {
   "cell_type": "markdown",
   "metadata": {},
   "source": [
    "# 9) Compute the FFT of a given signal with N = 8 using Radix-2 algorithm."
   ]
  },
  {
   "cell_type": "markdown",
   "metadata": {},
   "source": [
    "# recursion"
   ]
  },
  {
   "cell_type": "code",
   "execution_count": 1,
   "metadata": {},
   "outputs": [],
   "source": [
    "import numpy as np\n",
    "def Radix2_FFT(f):\n",
    "    N = len(f)\n",
    "    if N<=1:\n",
    "        return f\n",
    "    \n",
    "    even = Radix2_FFT(f[0::2])\n",
    "    odd = Radix2_FFT(f[1::2])\n",
    "    \n",
    "    fft = np.zeros(N).astype(np.complex64)\n",
    "    \n",
    "    for i in range(N//2):\n",
    "        fft[i] = even[i] + np.exp((-2j*np.pi*i)/N) * odd[i]\n",
    "        fft[i + N//2] = even[i] - np.exp((-2j*np.pi*i)/N) * odd[i]\n",
    "        \n",
    "    return fft"
   ]
  },
  {
   "cell_type": "code",
   "execution_count": 2,
   "metadata": {},
   "outputs": [
    {
     "name": "stdout",
     "output_type": "stream",
     "text": [
      "[28.+0.j        -4.+9.656855j  -4.+4.j        -4.+1.6568543j\n",
      " -4.+0.j        -4.-1.6568543j -4.-4.j        -4.-9.656855j ]\n"
     ]
    }
   ],
   "source": [
    "x = [0,1,2,3,4,5,6,7]\n",
    "fft = Radix2_FFT(x)\n",
    "print(fft)"
   ]
  },
  {
   "cell_type": "markdown",
   "metadata": {},
   "source": [
    "# cross check"
   ]
  },
  {
   "cell_type": "code",
   "execution_count": 3,
   "metadata": {},
   "outputs": [
    {
     "data": {
      "text/plain": [
       "array([28.+0.j        , -4.+9.65685425j, -4.+4.j        , -4.+1.65685425j,\n",
       "       -4.+0.j        , -4.-1.65685425j, -4.-4.j        , -4.-9.65685425j])"
      ]
     },
     "execution_count": 3,
     "metadata": {},
     "output_type": "execute_result"
    }
   ],
   "source": [
    "np.fft.fft(x)"
   ]
  },
  {
   "cell_type": "code",
   "execution_count": 4,
   "metadata": {},
   "outputs": [
    {
     "data": {
      "text/plain": [
       "array([0.        +0.j, 0.99999993+0.j, 1.99999991+0.j, 2.99999993+0.j,\n",
       "       4.        +0.j, 5.00000007+0.j, 6.00000009+0.j, 7.00000007+0.j])"
      ]
     },
     "execution_count": 4,
     "metadata": {},
     "output_type": "execute_result"
    }
   ],
   "source": [
    "np.fft.ifft(fft)"
   ]
  },
  {
   "cell_type": "code",
   "execution_count": null,
   "metadata": {},
   "outputs": [],
   "source": []
  }
 ],
 "metadata": {
  "kernelspec": {
   "display_name": "Python 3",
   "language": "python",
   "name": "python3"
  },
  "language_info": {
   "codemirror_mode": {
    "name": "ipython",
    "version": 3
   },
   "file_extension": ".py",
   "mimetype": "text/x-python",
   "name": "python",
   "nbconvert_exporter": "python",
   "pygments_lexer": "ipython3",
   "version": "3.7.6"
  }
 },
 "nbformat": 4,
 "nbformat_minor": 4
}
