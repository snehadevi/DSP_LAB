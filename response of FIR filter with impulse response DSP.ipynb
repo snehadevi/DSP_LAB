{
 "cells": [
  {
   "cell_type": "markdown",
   "metadata": {},
   "source": [
    "### 7) By means of the DFT and IDFT, determine the response of the FIR filter with impulse response h(n) to the input sequence x(n)"
   ]
  },
  {
   "cell_type": "code",
   "execution_count": 1,
   "metadata": {},
   "outputs": [],
   "source": [
    "import numpy as np\n",
    "def DFT(x, N):\n",
    "    #N = len(x)\n",
    "    x = np.concatenate([x, [0]*(N-len(x))])\n",
    "    n = np.arange(N)\n",
    "    k = n.reshape((N,1))\n",
    "    twiddler_mat = np.exp((-2j*np.pi*n*k)/N)\n",
    "    #print(twiddler_mat)\n",
    "    \n",
    "    dft_X = np.dot(twiddler_mat,x)\n",
    "    \n",
    "    return dft_X"
   ]
  },
  {
   "cell_type": "code",
   "execution_count": 2,
   "metadata": {},
   "outputs": [
    {
     "name": "stdout",
     "output_type": "stream",
     "text": [
      "[ 6.+0.00000000e+00j -2.+2.00000000e+00j -2.-7.34788079e-16j\n",
      " -2.-2.00000000e+00j]\n"
     ]
    }
   ],
   "source": [
    "x = np.array([0,1,2,3])\n",
    "N = 4\n",
    "X = DFT(x,N)\n",
    "print(X)"
   ]
  },
  {
   "cell_type": "code",
   "execution_count": 3,
   "metadata": {},
   "outputs": [],
   "source": [
    "import numpy as np\n",
    "def IDFT(X, N):\n",
    "    #N = len(X)\n",
    "    #print(N)\n",
    "    k = np.arange(N)\n",
    "    n = k.reshape((N,1))\n",
    "    twiddler_mat = np.exp((2j*np.pi*k*n)/N)\n",
    "    #print(twiddler_mat)\n",
    "    x = (np.dot(twiddler_mat, X))/N\n",
    "    \n",
    "    return x"
   ]
  },
  {
   "cell_type": "code",
   "execution_count": 4,
   "metadata": {},
   "outputs": [
    {
     "name": "stdout",
     "output_type": "stream",
     "text": [
      "[0.-0.j 1.-0.j 2.-0.j 3.+0.j]\n"
     ]
    }
   ],
   "source": [
    "N = 4\n",
    "ans = IDFT(X,N)\n",
    "print(np.round(ans))"
   ]
  },
  {
   "cell_type": "code",
   "execution_count": 5,
   "metadata": {},
   "outputs": [],
   "source": [
    "def FIR(x,h,x_start,h_start):\n",
    "    h_start = len(h) - h_start - 1\n",
    "    start = x_start + len(h) - h_start -1\n",
    "    N = len(x) + len(h) -1\n",
    "    N = int(2**(np.ceil(np.log2(N))))\n",
    "    #print(N)\n",
    "    dft_x = DFT(x,N)\n",
    "    dft_h = DFT(h,N)\n",
    "    mul = dft_x * dft_h\n",
    "    \n",
    "    idft = IDFT(mul, N)\n",
    "    return np.round(idft), start"
   ]
  },
  {
   "cell_type": "code",
   "execution_count": 6,
   "metadata": {},
   "outputs": [],
   "source": [
    "x = np.array([1,2,2,1])\n",
    "h = np.array([1,2,3])\n",
    "x_start = 0\n",
    "h_start = 0\n",
    "ans, start = FIR(x,h,x_start,h_start)"
   ]
  },
  {
   "cell_type": "code",
   "execution_count": 7,
   "metadata": {},
   "outputs": [
    {
     "name": "stdout",
     "output_type": "stream",
     "text": [
      "[ 1.-0.j  4.-0.j  9.+0.j 11.+0.j  8.+0.j  3.+0.j  0.-0.j  0.+0.j]\n"
     ]
    }
   ],
   "source": [
    "# The answer sequence is in complex format that's why in the next shell it is converted into integer\n",
    "print(ans)"
   ]
  },
  {
   "cell_type": "code",
   "execution_count": 8,
   "metadata": {},
   "outputs": [
    {
     "name": "stdout",
     "output_type": "stream",
     "text": [
      "Response of the FIR filter : [ 1  4  9 11  8  3  0  0]\n",
      "The starting position is : 0\n"
     ]
    },
    {
     "name": "stderr",
     "output_type": "stream",
     "text": [
      "C:\\Users\\Sneha\\anaconda3\\lib\\site-packages\\ipykernel_launcher.py:1: ComplexWarning: Casting complex values to real discards the imaginary part\n",
      "  \"\"\"Entry point for launching an IPython kernel.\n"
     ]
    }
   ],
   "source": [
    "print('Response of the FIR filter : {}'.format(ans.astype(int)))\n",
    "print('The starting position is : {}'.format(start))"
   ]
  },
  {
   "cell_type": "markdown",
   "metadata": {},
   "source": [
    "# cross check"
   ]
  },
  {
   "cell_type": "code",
   "execution_count": 9,
   "metadata": {},
   "outputs": [
    {
     "name": "stdout",
     "output_type": "stream",
     "text": [
      "[ 1.+0.j  4.+0.j  9.+0.j 11.+0.j  8.+0.j  3.+0.j  0.+0.j -0.+0.j]\n"
     ]
    }
   ],
   "source": [
    "N = 8\n",
    "dft_x = np.fft.fft(x, N)\n",
    "#print(dft_x)\n",
    "dft_h = np.fft.fft(h,N)\n",
    "#print(dft_h)\n",
    "mul = dft_x * dft_h\n",
    "#print(mul)\n",
    "    \n",
    "idft = np.fft.ifft(mul, N)\n",
    "print(np.round(idft))"
   ]
  },
  {
   "cell_type": "code",
   "execution_count": null,
   "metadata": {},
   "outputs": [],
   "source": []
  }
 ],
 "metadata": {
  "kernelspec": {
   "display_name": "Python 3",
   "language": "python",
   "name": "python3"
  },
  "language_info": {
   "codemirror_mode": {
    "name": "ipython",
    "version": 3
   },
   "file_extension": ".py",
   "mimetype": "text/x-python",
   "name": "python",
   "nbconvert_exporter": "python",
   "pygments_lexer": "ipython3",
   "version": "3.7.6"
  }
 },
 "nbformat": 4,
 "nbformat_minor": 4
}
