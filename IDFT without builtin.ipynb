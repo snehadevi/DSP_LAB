{
 "cells": [
  {
   "cell_type": "markdown",
   "metadata": {},
   "source": [
    "## 6) Computing inverse DFT of the signal obtained in (5). "
   ]
  },
  {
   "cell_type": "code",
   "execution_count": 1,
   "metadata": {},
   "outputs": [],
   "source": [
    "import numpy as np\n",
    "def Inverse_DFT(X, N = None):\n",
    "    L = len(X)\n",
    "    if N == None or N==L:\n",
    "        N = L\n",
    "    elif N>L:\n",
    "        X = np.concatenate([X, [0]*(N-len(X))])\n",
    "    elif N<L:\n",
    "        X = X[:N]\n",
    "        #print(X)\n",
    "        \n",
    "    k = np.arange(N)\n",
    "    n = k.reshape((N,1))\n",
    "    twiddler_mat = np.exp((2j*np.pi*k*n)/N)\n",
    "    #print(twiddler_mat)\n",
    "    x = (np.dot(twiddler_mat, X))/N\n",
    "    \n",
    "    return np.round(x)"
   ]
  },
  {
   "cell_type": "code",
   "execution_count": 2,
   "metadata": {},
   "outputs": [
    {
     "name": "stdout",
     "output_type": "stream",
     "text": [
      "[0.+0.j 1.+0.j 2.-0.j 3.-0.j]\n"
     ]
    }
   ],
   "source": [
    "N = 4\n",
    "# Here X is the output from Task 5\n",
    "X = np.array([ 6.+0.j, -2.+2.j, -2.-0.j, -2.-2.j])\n",
    "ans = Inverse_DFT(X,N)\n",
    "print(ans)"
   ]
  },
  {
   "cell_type": "markdown",
   "metadata": {},
   "source": [
    "# cross check"
   ]
  },
  {
   "cell_type": "code",
   "execution_count": 3,
   "metadata": {},
   "outputs": [
    {
     "name": "stdout",
     "output_type": "stream",
     "text": [
      "[0.+0.j 1.+0.j 2.+0.j 3.+0.j]\n"
     ]
    }
   ],
   "source": [
    "x_n = np.fft.ifft([6, -2+2j, -2, -2-2j],4)\n",
    "print(x_n)"
   ]
  },
  {
   "cell_type": "code",
   "execution_count": null,
   "metadata": {},
   "outputs": [],
   "source": []
  }
 ],
 "metadata": {
  "kernelspec": {
   "display_name": "Python 3",
   "language": "python",
   "name": "python3"
  },
  "language_info": {
   "codemirror_mode": {
    "name": "ipython",
    "version": 3
   },
   "file_extension": ".py",
   "mimetype": "text/x-python",
   "name": "python",
   "nbconvert_exporter": "python",
   "pygments_lexer": "ipython3",
   "version": "3.7.6"
  }
 },
 "nbformat": 4,
 "nbformat_minor": 4
}
