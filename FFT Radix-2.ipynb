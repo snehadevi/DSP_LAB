{
 "cells": [
  {
   "cell_type": "markdown",
   "metadata": {},
   "source": [
    "# 9) Compute the FFT of a given signal with N = 8 using Radix-2 algorithm."
   ]
  },
  {
   "cell_type": "code",
   "execution_count": 1,
   "metadata": {},
   "outputs": [],
   "source": [
    "import numpy as np\n",
    "def Radix2_FFT(f, n=None, fixed=False):\n",
    "    N = len(f)\n",
    "    # this fixed boolean is for fixed 8 point DFT as the question no matter what's the input signal's length\n",
    "    if fixed:\n",
    "        f = f[:8]\n",
    "        N = 8\n",
    "        fixed = False\n",
    "        \n",
    "    # this if condition is for user's N input\n",
    "    if n != None:\n",
    "        N = n\n",
    "        f = np.concatenate([f, [0]*(N-len(f))])\n",
    "    if N<=1:\n",
    "        return f\n",
    "    \n",
    "    even = Radix2_FFT(f[0::2])\n",
    "    odd = Radix2_FFT(f[1::2])\n",
    "    \n",
    "    fft = np.zeros(N).astype(np.complex64)\n",
    "    \n",
    "    for i in range(N//2):\n",
    "        fft[i] = even[i] + np.exp((-2j*np.pi*i)/N) * odd[i]\n",
    "        fft[i + N//2] = even[i] - np.exp((-2j*np.pi*i)/N) * odd[i]\n",
    "        \n",
    "    return fft"
   ]
  },
  {
   "cell_type": "code",
   "execution_count": 2,
   "metadata": {},
   "outputs": [
    {
     "name": "stdout",
     "output_type": "stream",
     "text": [
      "[28.+0.j        -4.+9.656855j  -4.+4.j        -4.+1.6568543j\n",
      " -4.+0.j        -4.-1.6568543j -4.-4.j        -4.-9.656855j ]\n"
     ]
    }
   ],
   "source": [
    "# Here by default FFT performs according to the length of the signal\n",
    "x = [0,1,2,3,4,5,6,7]\n",
    "fft = Radix2_FFT(x)\n",
    "print(fft)"
   ]
  },
  {
   "cell_type": "code",
   "execution_count": 3,
   "metadata": {},
   "outputs": [
    {
     "name": "stdout",
     "output_type": "stream",
     "text": [
      "FFT of a given signal with N = 8 using Radix-2 algorithm : [28.+0.j        -4.+9.656855j  -4.+4.j        -4.+1.6568543j\n",
      " -4.+0.j        -4.-1.6568543j -4.-4.j        -4.-9.656855j ]\n"
     ]
    }
   ],
   "source": [
    "# Fixed to 8 point FFT\n",
    "fft2 = Radix2_FFT(x, fixed = True)\n",
    "print('FFT of a given signal with N = 8 using Radix-2 algorithm : {}'.format(fft2))"
   ]
  },
  {
   "cell_type": "code",
   "execution_count": 4,
   "metadata": {},
   "outputs": [
    {
     "name": "stdout",
     "output_type": "stream",
     "text": [
      "[28.        +0.j        -9.137071 -20.109358j  -4.        +9.656855j\n",
      "  2.3800855 -5.986423j  -4.        +4.j         3.2767687 -2.6727145j\n",
      " -4.        +1.6568543j  3.480217  -0.7956491j -4.        +0.j\n",
      "  3.480217  +0.7956491j -4.        -1.6568543j  3.2767687 +2.6727145j\n",
      " -4.        -4.j         2.3800855 +5.986423j  -4.        -9.656855j\n",
      " -9.137071 +20.109358j ]\n"
     ]
    }
   ],
   "source": [
    "# User's N input N point FFT(N should be 2's power)\n",
    "fft3 = Radix2_FFT(x, n = 16)\n",
    "print(fft3)"
   ]
  },
  {
   "cell_type": "markdown",
   "metadata": {},
   "source": [
    "# cross check"
   ]
  },
  {
   "cell_type": "code",
   "execution_count": 5,
   "metadata": {},
   "outputs": [
    {
     "data": {
      "text/plain": [
       "array([28.+0.j        , -4.+9.65685425j, -4.+4.j        , -4.+1.65685425j,\n",
       "       -4.+0.j        , -4.-1.65685425j, -4.-4.j        , -4.-9.65685425j])"
      ]
     },
     "execution_count": 5,
     "metadata": {},
     "output_type": "execute_result"
    }
   ],
   "source": [
    "np.fft.fft(x)"
   ]
  },
  {
   "cell_type": "code",
   "execution_count": 6,
   "metadata": {},
   "outputs": [
    {
     "data": {
      "text/plain": [
       "array([28.+0.j        , -4.+9.65685425j, -4.+4.j        , -4.+1.65685425j,\n",
       "       -4.+0.j        , -4.-1.65685425j, -4.-4.j        , -4.-9.65685425j])"
      ]
     },
     "execution_count": 6,
     "metadata": {},
     "output_type": "execute_result"
    }
   ],
   "source": [
    "np.fft.fft(x,8)"
   ]
  },
  {
   "cell_type": "code",
   "execution_count": 7,
   "metadata": {},
   "outputs": [
    {
     "data": {
      "text/plain": [
       "array([28.         +0.j        , -9.13707118-20.10935797j,\n",
       "       -4.         +9.65685425j,  2.3800856  -5.98642305j,\n",
       "       -4.         +4.j        ,  3.27676865 -2.67271455j,\n",
       "       -4.         +1.65685425j,  3.48021694 -0.79564947j,\n",
       "       -4.         +0.j        ,  3.48021694 +0.79564947j,\n",
       "       -4.         -1.65685425j,  3.27676865 +2.67271455j,\n",
       "       -4.         -4.j        ,  2.3800856  +5.98642305j,\n",
       "       -4.         -9.65685425j, -9.13707118+20.10935797j])"
      ]
     },
     "execution_count": 7,
     "metadata": {},
     "output_type": "execute_result"
    }
   ],
   "source": [
    "np.fft.fft(x,16)"
   ]
  },
  {
   "cell_type": "code",
   "execution_count": 8,
   "metadata": {},
   "outputs": [
    {
     "data": {
      "text/plain": [
       "array([0.        +0.j, 0.99999993+0.j, 1.99999991+0.j, 2.99999993+0.j,\n",
       "       4.        +0.j, 5.00000007+0.j, 6.00000009+0.j, 7.00000007+0.j])"
      ]
     },
     "execution_count": 8,
     "metadata": {},
     "output_type": "execute_result"
    }
   ],
   "source": [
    "np.fft.ifft(fft)"
   ]
  },
  {
   "cell_type": "code",
   "execution_count": null,
   "metadata": {},
   "outputs": [],
   "source": []
  }
 ],
 "metadata": {
  "kernelspec": {
   "display_name": "Python 3",
   "language": "python",
   "name": "python3"
  },
  "language_info": {
   "codemirror_mode": {
    "name": "ipython",
    "version": 3
   },
   "file_extension": ".py",
   "mimetype": "text/x-python",
   "name": "python",
   "nbconvert_exporter": "python",
   "pygments_lexer": "ipython3",
   "version": "3.7.6"
  }
 },
 "nbformat": 4,
 "nbformat_minor": 4
}
