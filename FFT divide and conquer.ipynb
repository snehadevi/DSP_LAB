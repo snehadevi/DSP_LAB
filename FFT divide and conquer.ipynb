{
 "cells": [
  {
   "cell_type": "markdown",
   "metadata": {},
   "source": [
    "## 8) Compute the Fast Fourier Transform (FFT) using divide and conquer approach."
   ]
  },
  {
   "cell_type": "code",
   "execution_count": 1,
   "metadata": {},
   "outputs": [],
   "source": [
    "import numpy as np\n",
    "def N_point_DFT(x):\n",
    "    N = len(x)\n",
    "    n = np.arange(N)\n",
    "    k = n.reshape((N,1))\n",
    "    twidller_mat = np.zeros((n*k).shape, dtype=np.complex64)\n",
    "    twiddler_mat = np.exp((-2j*np.pi*n*k)/N)\n",
    "    #print(twiddler_mat)\n",
    "    \n",
    "    dft_X = np.dot(twiddler_mat,x)\n",
    "    \n",
    "    return np.round(dft_X)"
   ]
  },
  {
   "cell_type": "code",
   "execution_count": 2,
   "metadata": {},
   "outputs": [
    {
     "name": "stdout",
     "output_type": "stream",
     "text": [
      "[ 6.+0.j -2.+2.j -2.-0.j -2.-2.j]\n"
     ]
    }
   ],
   "source": [
    "x = np.array([0,1,2,3])\n",
    "N = 4\n",
    "X = N_point_DFT(x)\n",
    "print(X)"
   ]
  },
  {
   "cell_type": "code",
   "execution_count": 3,
   "metadata": {},
   "outputs": [],
   "source": [
    "def factors(x):\n",
    "    result = []\n",
    "    for i in range(1, x+1):\n",
    "        if x % i == 0:\n",
    "            result.append(i)\n",
    "    fact = result[len(result)//2]\n",
    "    ans = x//fact\n",
    "    return fact, ans"
   ]
  },
  {
   "cell_type": "code",
   "execution_count": 4,
   "metadata": {},
   "outputs": [
    {
     "data": {
      "text/plain": [
       "(5, 2)"
      ]
     },
     "execution_count": 4,
     "metadata": {},
     "output_type": "execute_result"
    }
   ],
   "source": [
    "factors(10)"
   ]
  },
  {
   "cell_type": "code",
   "execution_count": 5,
   "metadata": {},
   "outputs": [],
   "source": [
    "def divide_conquer_dft(x):\n",
    "    N = len(x)\n",
    "    L, M = factors(N)\n",
    "    new_x = x.reshape((M,L)).T\n",
    "    dft = np.apply_along_axis(N_point_DFT, axis=1, arr=new_x)\n",
    "    k = np.arange(M)\n",
    "    n = (np.arange(L)).reshape((L,1))\n",
    "    twiddler_mat = np.exp((-2j*np.pi*k*n)/N)\n",
    "    x_W = dft*twiddler_mat\n",
    "    final_dft = np.zeros(x_W.shape, dtype=np.complex64)\n",
    "    for i in range(M):\n",
    "        final_dft[:,i] = N_point_DFT(x_W[:,i])\n",
    "        \n",
    "    return final_dft.flatten()"
   ]
  },
  {
   "cell_type": "code",
   "execution_count": 6,
   "metadata": {},
   "outputs": [
    {
     "name": "stdout",
     "output_type": "stream",
     "text": [
      "[ 6.+0.j -2.+2.j -2.-0.j -2.-2.j]\n"
     ]
    }
   ],
   "source": [
    "x = np.array([0,1,2,3])\n",
    "ans = divide_conquer_dft(x)\n",
    "print(ans)"
   ]
  },
  {
   "cell_type": "markdown",
   "metadata": {},
   "source": [
    "# cross check"
   ]
  },
  {
   "cell_type": "code",
   "execution_count": 7,
   "metadata": {},
   "outputs": [
    {
     "data": {
      "text/plain": [
       "array([ 6.+0.j, -2.+2.j, -2.+0.j, -2.-2.j])"
      ]
     },
     "execution_count": 7,
     "metadata": {},
     "output_type": "execute_result"
    }
   ],
   "source": [
    "np.fft.fft(x)"
   ]
  },
  {
   "cell_type": "code",
   "execution_count": 8,
   "metadata": {},
   "outputs": [
    {
     "data": {
      "text/plain": [
       "array([0.+0.j, 1.+0.j, 2.+0.j, 3.+0.j])"
      ]
     },
     "execution_count": 8,
     "metadata": {},
     "output_type": "execute_result"
    }
   ],
   "source": [
    "np.fft.ifft(ans)"
   ]
  },
  {
   "cell_type": "code",
   "execution_count": null,
   "metadata": {},
   "outputs": [],
   "source": []
  }
 ],
 "metadata": {
  "kernelspec": {
   "display_name": "Python 3",
   "language": "python",
   "name": "python3"
  },
  "language_info": {
   "codemirror_mode": {
    "name": "ipython",
    "version": 3
   },
   "file_extension": ".py",
   "mimetype": "text/x-python",
   "name": "python",
   "nbconvert_exporter": "python",
   "pygments_lexer": "ipython3",
   "version": "3.7.6"
  }
 },
 "nbformat": 4,
 "nbformat_minor": 4
}
