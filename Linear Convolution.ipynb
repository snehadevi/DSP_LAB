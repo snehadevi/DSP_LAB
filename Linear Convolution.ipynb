{
 "cells": [
  {
   "cell_type": "markdown",
   "metadata": {},
   "source": [
    "# 2) Computing the linear convolution of two signals"
   ]
  },
  {
   "cell_type": "code",
   "execution_count": 1,
   "metadata": {},
   "outputs": [],
   "source": [
    "import numpy as np\n",
    "def convolution (x, y, x_start, y_start):\n",
    "    y = y[::-1]\n",
    "    y_start = len(y) - y_start - 1\n",
    "    conv_start = x_start + len(y) - y_start - 1\n",
    "    length = len(x) + len(y) - 1\n",
    "    #print(length)\n",
    "    x = np.array([0]*(length - len(x)) + x)\n",
    "    y = np.array(y + [0]*(length - len(y)))\n",
    "    r_xy = np.zeros(length)\n",
    "    \n",
    "    for i in range(length):\n",
    "        r_xy[i] = (x*y).sum()\n",
    "        y[1:] = y[:-1]\n",
    "        y[0] = 0\n",
    "    return r_xy, conv_start"
   ]
  },
  {
   "cell_type": "code",
   "execution_count": 2,
   "metadata": {},
   "outputs": [],
   "source": [
    "x = [1,2,1,-1]\n",
    "h = [1,2,3,1]\n",
    "x_start = 0\n",
    "h_start = 1\n",
    "h, start = convolution (x, h, x_start, h_start)"
   ]
  },
  {
   "cell_type": "code",
   "execution_count": 3,
   "metadata": {},
   "outputs": [
    {
     "name": "stdout",
     "output_type": "stream",
     "text": [
      "Convolution of signal x and h is : [ 1.  4.  8.  8.  3. -2. -1.]\n",
      "The starting position of signal is : 1\n"
     ]
    }
   ],
   "source": [
    "print('Convolution of signal x and h is : {}'.format(h))\n",
    "print('The starting position of signal is : {}'.format(start))"
   ]
  },
  {
   "cell_type": "code",
   "execution_count": null,
   "metadata": {},
   "outputs": [],
   "source": []
  }
 ],
 "metadata": {
  "kernelspec": {
   "display_name": "Python 3",
   "language": "python",
   "name": "python3"
  },
  "language_info": {
   "codemirror_mode": {
    "name": "ipython",
    "version": 3
   },
   "file_extension": ".py",
   "mimetype": "text/x-python",
   "name": "python",
   "nbconvert_exporter": "python",
   "pygments_lexer": "ipython3",
   "version": "3.7.6"
  }
 },
 "nbformat": 4,
 "nbformat_minor": 4
}
